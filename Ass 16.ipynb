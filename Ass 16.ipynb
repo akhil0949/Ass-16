{
 "cells": [
  {
   "cell_type": "code",
   "execution_count": null,
   "id": "54268554",
   "metadata": {},
   "outputs": [],
   "source": [
    "1. Write a Python program to find sum of elements in list?\n",
    "Ans)\n",
    "l = [1,2,3,4,5]\n",
    "sum = 0\n",
    "for ele in range(0,len(l)):\n",
    "    sum = sum + l[ele]\n",
    "print(\"sum of elements in given list\",total)"
   ]
  },
  {
   "cell_type": "code",
   "execution_count": null,
   "id": "66ca5b9c",
   "metadata": {},
   "outputs": [],
   "source": [
    "2. Write a Python program to Multiply all numbers in the list?\n",
    "Ans)\n",
    "l = [1,2,3,4,5]\n",
    "k = 1\n",
    "for i in l:\n",
    "    k = k * i\n",
    "print(k)"
   ]
  },
  {
   "cell_type": "code",
   "execution_count": null,
   "id": "f0839410",
   "metadata": {},
   "outputs": [],
   "source": [
    "3. Write a Python program to find smallest number in a list?\n",
    "Ans)\n",
    "l = [23,12,34,56,11,56,43,74,86,43]\n",
    "l.sort()\n",
    "print(l[0])"
   ]
  },
  {
   "cell_type": "code",
   "execution_count": null,
   "id": "cdc57ebd",
   "metadata": {},
   "outputs": [],
   "source": [
    "4. Write a Python program to find largest number in a list?\n",
    "Ans)\n",
    "l = [23,12,34,56,11,56,43,74,86,43]\n",
    "l.sort()\n",
    "print(l[-1])"
   ]
  },
  {
   "cell_type": "code",
   "execution_count": null,
   "id": "1cebc6cc",
   "metadata": {},
   "outputs": [],
   "source": [
    "5. Write a Python program to find second largest number in a list?\n",
    "Ans)\n",
    "l = [23,12,34,56,11,56,43,74,86,43]\n",
    "l.sort()\n",
    "print(l[-2])"
   ]
  },
  {
   "cell_type": "code",
   "execution_count": null,
   "id": "58d9afdc",
   "metadata": {},
   "outputs": [],
   "source": [
    "6. Write a Python program to find N largest elements from a list?\n",
    "Ans)\n",
    "def N_max_elements(list, N):\n",
    "    result_list = []\n",
    "  \n",
    "    for i in range(0, N): \n",
    "        maximum = 0\n",
    "          \n",
    "        for j in range(len(list)):     \n",
    "            if list[j] > maximum:\n",
    "                maximum = list[j]\n",
    "                  \n",
    "        list.remove(maximum)\n",
    "        result_list.append(maximum)\n",
    "          \n",
    "    return result_list"
   ]
  },
  {
   "cell_type": "code",
   "execution_count": null,
   "id": "5b3f2067",
   "metadata": {},
   "outputs": [],
   "source": [
    "7. Write a Python program to print even numbers in a list?\n",
    "Ans)\n",
    "l = [23,12,34,56,11,56,43,74,86,43]\n",
    "k = []\n",
    "for i in l:\n",
    "    if i % 2 == 0:\n",
    "        k.append(i)\n",
    "print(k)  "
   ]
  },
  {
   "cell_type": "code",
   "execution_count": null,
   "id": "c3781bec",
   "metadata": {},
   "outputs": [],
   "source": [
    "8. Write a Python program to print odd numbers in a List?\n",
    "Ans)\n",
    "l = [23,12,34,56,11,56,43,74,86,43]\n",
    "k = []\n",
    "for i in l:\n",
    "    if i % 2 != 0:\n",
    "        k.append(i)\n",
    "print(k)   "
   ]
  },
  {
   "cell_type": "code",
   "execution_count": null,
   "id": "93b280e4",
   "metadata": {},
   "outputs": [],
   "source": [
    "9. Write a Python program to Remove empty List from List?\n",
    "Ans)\n",
    "l = [23,12,34,56,11,56,43,74,86,43,[173,21,3,4114,144],[],18732,[]]\n",
    "print(\"the original list is :\" + str(l))\n",
    "result = [i for i in l if i!=[]]\n",
    "print(\"list after empty list is :\" + str(result))"
   ]
  },
  {
   "cell_type": "code",
   "execution_count": null,
   "id": "6c49f587",
   "metadata": {},
   "outputs": [],
   "source": [
    "10. Write a Python program to Cloning or Copying a list?\n",
    "Ans)\n",
    "l = [23,12,34,56,11,56,43,74,86,43]\n",
    "k = l.copy()"
   ]
  },
  {
   "cell_type": "code",
   "execution_count": null,
   "id": "bf73f78b",
   "metadata": {},
   "outputs": [],
   "source": [
    "11. Write a Python program to Count occurrences of an element in a list?\n",
    "Ans)\n",
    "l = [1,2,3,41,23,4,5,21,4,5,2,1,5,68,6,43,3,43,3]\n",
    "for i in l:\n",
    "    print(i,\" has occured \",l.count(i),\"times\")"
   ]
  }
 ],
 "metadata": {
  "kernelspec": {
   "display_name": "Python 3",
   "language": "python",
   "name": "python3"
  },
  "language_info": {
   "codemirror_mode": {
    "name": "ipython",
    "version": 3
   },
   "file_extension": ".py",
   "mimetype": "text/x-python",
   "name": "python",
   "nbconvert_exporter": "python",
   "pygments_lexer": "ipython3",
   "version": "3.6.15"
  }
 },
 "nbformat": 4,
 "nbformat_minor": 5
}
